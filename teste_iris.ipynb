{
 "cells": [
  {
   "cell_type": "markdown",
   "metadata": {},
   "source": [
    "Abre os dados"
   ]
  },
  {
   "cell_type": "code",
   "execution_count": 10,
   "metadata": {},
   "outputs": [],
   "source": [
    "dados = []\n",
    "with open('iris.data', 'r', encoding='utf-8') as f:\n",
    "\n",
    "    for linha in f:\n",
    "\n",
    "        linha = linha.split(',')\n",
    "       \n",
    "        vetor = [float(x) for x in linha[:4]]\n",
    "        vetor.append(linha[4].strip('\\n'))\n",
    "        dados.append(vetor)\n",
    "\n",
    "\n",
    "dados_virginica = [x for x in dados if x[4] =='Iris-virginica']\n",
    "dados_versicolor = [x for x in dados if x[4] =='Iris-versicolor']\n",
    "dados_setosa = [x for x in dados if x[4] =='Iris-setosa']\n",
    "\n",
    "\n",
    "\n"
   ]
  },
  {
   "cell_type": "code",
   "execution_count": 11,
   "metadata": {},
   "outputs": [],
   "source": [
    "## dados setosa\n",
    "\n",
    "\n"
   ]
  },
  {
   "cell_type": "markdown",
   "metadata": {},
   "source": []
  }
 ],
 "metadata": {
  "interpreter": {
   "hash": "df0893f56f349688326838aaeea0de204df53a132722cbd565e54b24a8fec5f6"
  },
  "kernelspec": {
   "display_name": "Python 3.8.0 64-bit",
   "language": "python",
   "name": "python3"
  },
  "language_info": {
   "codemirror_mode": {
    "name": "ipython",
    "version": 3
   },
   "file_extension": ".py",
   "mimetype": "text/x-python",
   "name": "python",
   "nbconvert_exporter": "python",
   "pygments_lexer": "ipython3",
   "version": "3.8.8"
  },
  "orig_nbformat": 4
 },
 "nbformat": 4,
 "nbformat_minor": 2
}
